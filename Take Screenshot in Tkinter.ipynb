{
 "cells": [
  {
   "cell_type": "code",
   "execution_count": 6,
   "metadata": {},
   "outputs": [
    {
     "name": "stdout",
     "output_type": "stream",
     "text": [
      "Current working dir : C:\\Users\\asus\n"
     ]
    }
   ],
   "source": [
    "from tkinter import *\n",
    "from tkinter import messagebox \n",
    "import pyautogui \n",
    "import os \n",
    "root = Tk() \n",
    "time = IntVar() \n",
    "time.set(3) \n",
    "def take_shot(): \n",
    "    timeleft = time.get() \n",
    "    if timeleft > 0: \n",
    "        timeleft -= 1 \n",
    "        time. set( timeleft) \n",
    "        root.after(1000, take_shot) \n",
    "    else: \n",
    "        s = pyautogui.screenshot() \n",
    "        s.save(os.getcwd()+\"\\shot.png\") \n",
    "        messagebox.showinfo(\"Shot\", \"shot saved!\") \n",
    "        time.set(3) \n",
    "print (\"Current working dir : %s\" % os.getcwd())        \n",
    "l = Label(root,textvariable = time,fg=\"red\") \n",
    "l.pack() \n",
    "Button(root,text = f\"Take Shot 3 secs\", command = take_shot).pack()\n",
    "\n",
    "root.mainloop() \n"
   ]
  },
  {
   "cell_type": "code",
   "execution_count": null,
   "metadata": {},
   "outputs": [],
   "source": []
  }
 ],
 "metadata": {
  "kernelspec": {
   "display_name": "Python 3",
   "language": "python",
   "name": "python3"
  },
  "language_info": {
   "codemirror_mode": {
    "name": "ipython",
    "version": 3
   },
   "file_extension": ".py",
   "mimetype": "text/x-python",
   "name": "python",
   "nbconvert_exporter": "python",
   "pygments_lexer": "ipython3",
   "version": "3.8.5"
  }
 },
 "nbformat": 4,
 "nbformat_minor": 4
}
